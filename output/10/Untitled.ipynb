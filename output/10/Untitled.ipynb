{
 "cells": [
  {
   "cell_type": "code",
   "execution_count": 3,
   "id": "6023c552",
   "metadata": {},
   "outputs": [
    {
     "ename": "error",
     "evalue": "OpenCV(3.4.2) /tmp/build/80754af9/opencv-suite_1535558553474/work/modules/core/src/matrix_operations.cpp:63: error: (-215:Assertion failed) src[i].dims <= 2 && src[i].rows == src[0].rows && src[i].type() == src[0].type() in function 'hconcat'\n",
     "output_type": "error",
     "traceback": [
      "\u001b[0;31m---------------------------------------------------------------------------\u001b[0m",
      "\u001b[0;31merror\u001b[0m                                     Traceback (most recent call last)",
      "\u001b[0;32m/tmp/ipykernel_7893/1628135920.py\u001b[0m in \u001b[0;36m<module>\u001b[0;34m\u001b[0m\n\u001b[1;32m      5\u001b[0m \u001b[0mimg1\u001b[0m \u001b[0;34m=\u001b[0m \u001b[0mcv2\u001b[0m\u001b[0;34m.\u001b[0m\u001b[0mimread\u001b[0m\u001b[0;34m(\u001b[0m\u001b[0;34m'g_1.png'\u001b[0m\u001b[0;34m)\u001b[0m\u001b[0;34m\u001b[0m\u001b[0;34m\u001b[0m\u001b[0m\n\u001b[1;32m      6\u001b[0m \u001b[0;34m\u001b[0m\u001b[0m\n\u001b[0;32m----> 7\u001b[0;31m \u001b[0mim_v\u001b[0m \u001b[0;34m=\u001b[0m \u001b[0mcv2\u001b[0m\u001b[0;34m.\u001b[0m\u001b[0mhconcat\u001b[0m\u001b[0;34m(\u001b[0m\u001b[0;34m[\u001b[0m\u001b[0mimg1\u001b[0m\u001b[0;34m,\u001b[0m \u001b[0mimg2\u001b[0m\u001b[0;34m]\u001b[0m\u001b[0;34m)\u001b[0m\u001b[0;34m\u001b[0m\u001b[0;34m\u001b[0m\u001b[0m\n\u001b[0m\u001b[1;32m      8\u001b[0m \u001b[0;34m\u001b[0m\u001b[0m\n\u001b[1;32m      9\u001b[0m \u001b[0;31m# show the output image\u001b[0m\u001b[0;34m\u001b[0m\u001b[0;34m\u001b[0m\u001b[0;34m\u001b[0m\u001b[0m\n",
      "\u001b[0;31merror\u001b[0m: OpenCV(3.4.2) /tmp/build/80754af9/opencv-suite_1535558553474/work/modules/core/src/matrix_operations.cpp:63: error: (-215:Assertion failed) src[i].dims <= 2 && src[i].rows == src[0].rows && src[i].type() == src[0].type() in function 'hconcat'\n"
     ]
    }
   ],
   "source": [
    "import cv2\n",
    "  \n",
    "# read the images\n",
    "img2 = cv2.imread('c/.png')\n",
    "img1 = cv2.imread('g_1.png')\n",
    "\n",
    "im_v = cv2.hconcat([img1, img2])\n",
    "  \n",
    "# show the output image\n",
    "im_v = cv2.resize(im_v, (1024,512))\n",
    "cv2.imwrite('5.png', im_v)"
   ]
  },
  {
   "cell_type": "code",
   "execution_count": 4,
   "id": "1e60bba7",
   "metadata": {},
   "outputs": [
    {
     "name": "stdout",
     "output_type": "stream",
     "text": [
      "['14_4.png', '21_5.png', '22_5.png', '11.png', 'res2', '7.png', '8.png', '15_2.png', 'res', '14_3.png', '14_0.png', '20_5.png', '21_0.png', '4.png', '20_6.png', 'res1', '20_2.png', '14_1.png', '17_1.png', '21_1.png', '12.png', '14_2.png', '16_0.png', '6.png', '15_1.png', '21_6.png', '21_3.png', '22_6.png', '22_3.png', '20_1.png', '21_2.png', '22_0.png', '13.png', '17_3.png', '16_2.png', '15_4.png', '21_4.png', '3.png', '15_3.png', '2.png', '22_4.png', '16_1.png', '22_1.png', '5.png', '22_2.png', '0.png', '17_4.png', '1.png', '20_4.png', '17_2.png', '17_5.png', '10_1.png', '15_0.png', '20_0.png', '9.png', '17_0.png', '10.png']\n"
     ]
    }
   ],
   "source": [
    "import os\n",
    "\n",
    "path = \"./c\"\n",
    "dir_list = os.listdir(path)\n",
    "print(dir_list)"
   ]
  },
  {
   "cell_type": "code",
   "execution_count": 5,
   "id": "bc323389",
   "metadata": {},
   "outputs": [
    {
     "name": "stdout",
     "output_type": "stream",
     "text": [
      "./c/14_4.png\n",
      "./c/21_5.png\n",
      "./c/22_5.png\n",
      "./c/11.png\n",
      "./c/7.png\n",
      "./c/8.png\n",
      "./c/15_2.png\n",
      "./c/14_3.png\n",
      "./c/14_0.png\n",
      "./c/20_5.png\n",
      "./c/21_0.png\n",
      "./c/4.png\n",
      "./c/20_6.png\n",
      "./c/20_2.png\n",
      "./c/14_1.png\n",
      "./c/17_1.png\n",
      "./c/21_1.png\n",
      "./c/12.png\n",
      "./c/14_2.png\n",
      "./c/16_0.png\n",
      "./c/6.png\n",
      "./c/15_1.png\n",
      "./c/21_6.png\n",
      "./c/21_3.png\n",
      "./c/22_6.png\n",
      "./c/22_3.png\n",
      "./c/20_1.png\n",
      "./c/21_2.png\n",
      "./c/22_0.png\n",
      "./c/13.png\n",
      "./c/17_3.png\n",
      "./c/16_2.png\n",
      "./c/15_4.png\n",
      "./c/21_4.png\n",
      "./c/3.png\n",
      "./c/15_3.png\n",
      "./c/2.png\n",
      "./c/22_4.png\n",
      "./c/16_1.png\n",
      "./c/22_1.png\n",
      "./c/5.png\n",
      "./c/22_2.png\n",
      "./c/0.png\n",
      "./c/17_4.png\n",
      "./c/1.png\n",
      "./c/20_4.png\n",
      "./c/17_2.png\n",
      "./c/17_5.png\n",
      "./c/10_1.png\n",
      "./c/15_0.png\n",
      "./c/20_0.png\n",
      "./c/9.png\n",
      "./c/17_0.png\n",
      "./c/10.png\n"
     ]
    }
   ],
   "source": [
    "for file in dir_list:\n",
    "    if 'png' not in file:\n",
    "        continue\n",
    "    print('./c/'+file)\n",
    "    img2 = cv2.imread('./c/'+file)\n",
    "    img2 = img2[129:641, 1335:1831]\n",
    "    cv2.imwrite('./c/res1/'+file, img2)"
   ]
  },
  {
   "cell_type": "code",
   "execution_count": 84,
   "id": "4adff800",
   "metadata": {},
   "outputs": [
    {
     "data": {
      "text/plain": [
       "True"
      ]
     },
     "execution_count": 84,
     "metadata": {},
     "output_type": "execute_result"
    }
   ],
   "source": [
    "img0 = cv2.imread('./c/res1/22_0.png')\n",
    "img1 = cv2.imread('./c/res1/22_1.png')\n",
    "img2 = cv2.imread('./c/res1/22_2.png')\n",
    "img3 = cv2.imread('./c/res1/22_3.png')\n",
    "img4 = cv2.imread('./c/res1/22_4.png')\n",
    "img5 = cv2.imread('./c/res1/22_5.png')\n",
    "# img6 = cv2.copyMakeBorder(img6, 0, 0, 248, 248, cv2.BORDER_CONSTANT,value=(255,255,255))\n",
    "\n",
    "im_1 = cv2.hconcat([img0, img1])\n",
    "im_2 = cv2.hconcat([img2, img3])\n",
    "im_3 = cv2.hconcat([img4, img5])\n",
    "im_3 = cv2.vconcat([im_1, im_2, im_3])\n",
    "# im_3 = cv2.vconcat([im_1, im_2, img4])\n",
    "\n",
    "cv2.imwrite('./c/res1/all9.png', im_3)"
   ]
  },
  {
   "cell_type": "code",
   "execution_count": 79,
   "id": "e2e2f936",
   "metadata": {},
   "outputs": [
    {
     "ename": "AttributeError",
     "evalue": "'NoneType' object has no attribute 'shape'",
     "output_type": "error",
     "traceback": [
      "\u001b[0;31m---------------------------------------------------------------------------\u001b[0m",
      "\u001b[0;31mAttributeError\u001b[0m                            Traceback (most recent call last)",
      "\u001b[0;32m/tmp/ipykernel_6146/1526866888.py\u001b[0m in \u001b[0;36m<module>\u001b[0;34m\u001b[0m\n\u001b[0;32m----> 1\u001b[0;31m \u001b[0mimg3\u001b[0m\u001b[0;34m.\u001b[0m\u001b[0mshape\u001b[0m\u001b[0;34m\u001b[0m\u001b[0;34m\u001b[0m\u001b[0m\n\u001b[0m",
      "\u001b[0;31mAttributeError\u001b[0m: 'NoneType' object has no attribute 'shape'"
     ]
    }
   ],
   "source": [
    "img3.shape"
   ]
  },
  {
   "cell_type": "code",
   "execution_count": 15,
   "id": "8332fc3f",
   "metadata": {},
   "outputs": [
    {
     "data": {
      "text/plain": [
       "True"
      ]
     },
     "execution_count": 15,
     "metadata": {},
     "output_type": "execute_result"
    }
   ],
   "source": [
    "img0 = cv2.imread('./c/res2/4.png')[100:]\n",
    "img1 = cv2.imread('./c/res2/9.png')[100:]\n",
    "# img2 = cv2.imread('./c/res2/13.png')[100:]\n",
    "img3 = cv2.imread('./c/res2/14_4.png')[100:]\n",
    "# img4 = cv2.imread('./c/res2/15_4.png')\n",
    "img3 = cv2.copyMakeBorder(img3, 0, 0, 250, 250, cv2.BORDER_CONSTANT,value=(255,255,255))\n",
    "\n",
    "im_1 = cv2.hconcat([img0, img2])\n",
    "# im_2 = cv2.hconcat([img2, img3])\n",
    "im_3 = cv2.vconcat([im_1, img3])\n",
    "\n",
    "cv2.imwrite('./c/res2/all13.png', im_3)"
   ]
  },
  {
   "cell_type": "code",
   "execution_count": 62,
   "id": "95c7c8bb",
   "metadata": {},
   "outputs": [],
   "source": [
    "for file in dir_list:\n",
    "    if 'png' not in file:\n",
    "        continue\n",
    "    img2 = cv2.imread('./c/'+file)\n",
    "    img2 = img2[50:550, 800:1300]\n",
    "    cv2.imwrite('./c/res2/'+file, img2)"
   ]
  },
  {
   "cell_type": "code",
   "execution_count": null,
   "id": "87892424",
   "metadata": {},
   "outputs": [],
   "source": []
  }
 ],
 "metadata": {
  "kernelspec": {
   "display_name": "Python 3 (ipykernel)",
   "language": "python",
   "name": "python3"
  },
  "language_info": {
   "codemirror_mode": {
    "name": "ipython",
    "version": 3
   },
   "file_extension": ".py",
   "mimetype": "text/x-python",
   "name": "python",
   "nbconvert_exporter": "python",
   "pygments_lexer": "ipython3",
   "version": "3.7.16"
  }
 },
 "nbformat": 4,
 "nbformat_minor": 5
}
