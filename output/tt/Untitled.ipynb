{
 "cells": [
  {
   "cell_type": "code",
   "execution_count": 2,
   "id": "4f91da1a",
   "metadata": {},
   "outputs": [],
   "source": [
    "import cv2\n",
    "  \n",
    "# read the images\n",
    "# img2 = cv2.imread('1694796197.png')\n",
    "# img1 = cv2.imread('1694795846.png')\n",
    "\n",
    "# im_v = cv2.hconcat([img1, img2])\n",
    "  \n",
    "# # show the output image\n",
    "# cv2.imwrite('4.png', im_v)"
   ]
  },
  {
   "cell_type": "code",
   "execution_count": 53,
   "id": "790932bd",
   "metadata": {},
   "outputs": [
    {
     "ename": "FileNotFoundError",
     "evalue": "[Errno 2] No such file or directory: './c'",
     "output_type": "error",
     "traceback": [
      "\u001b[0;31m---------------------------------------------------------------------------\u001b[0m",
      "\u001b[0;31mFileNotFoundError\u001b[0m                         Traceback (most recent call last)",
      "\u001b[0;32m/tmp/ipykernel_6172/1650673585.py\u001b[0m in \u001b[0;36m<module>\u001b[0;34m\u001b[0m\n\u001b[1;32m      2\u001b[0m \u001b[0;34m\u001b[0m\u001b[0m\n\u001b[1;32m      3\u001b[0m \u001b[0mpath\u001b[0m \u001b[0;34m=\u001b[0m \u001b[0;34m\"./c\"\u001b[0m\u001b[0;34m\u001b[0m\u001b[0;34m\u001b[0m\u001b[0m\n\u001b[0;32m----> 4\u001b[0;31m \u001b[0mdir_list\u001b[0m \u001b[0;34m=\u001b[0m \u001b[0mos\u001b[0m\u001b[0;34m.\u001b[0m\u001b[0mlistdir\u001b[0m\u001b[0;34m(\u001b[0m\u001b[0mpath\u001b[0m\u001b[0;34m)\u001b[0m\u001b[0;34m\u001b[0m\u001b[0;34m\u001b[0m\u001b[0m\n\u001b[0m",
      "\u001b[0;31mFileNotFoundError\u001b[0m: [Errno 2] No such file or directory: './c'"
     ]
    }
   ],
   "source": [
    "import os\n",
    "\n",
    "path = \"./c\"\n",
    "dir_list = os.listdir(path)"
   ]
  },
  {
   "cell_type": "code",
   "execution_count": 52,
   "id": "50baa5bf",
   "metadata": {},
   "outputs": [
    {
     "name": "stdout",
     "output_type": "stream",
     "text": [
      "(512, 496, 3)\n"
     ]
    }
   ],
   "source": [
    "img2 = cv2.imread('17_0.png')\n",
    "img2 = img2[129:641, 1335:1831]\n",
    "cv2.imwrite('g_1.png', img2)\n",
    "print(img2.shape)"
   ]
  },
  {
   "cell_type": "code",
   "execution_count": 36,
   "id": "cba47099",
   "metadata": {},
   "outputs": [
    {
     "data": {
      "text/plain": [
       "1847"
      ]
     },
     "execution_count": 36,
     "metadata": {},
     "output_type": "execute_result"
    }
   ],
   "source": [
    "1335+512"
   ]
  },
  {
   "cell_type": "code",
   "execution_count": null,
   "id": "032f3e5e",
   "metadata": {},
   "outputs": [],
   "source": [
    "img1 = cv2.imread('1.png')\n",
    "img2 = cv2.imread('2.png')\n",
    "img3 = cv2.imread('3.png')\n",
    "img4 = cv2.imread('4.png')\n",
    "\n",
    "im_v = cv2.vconcat([img1, img2, img3, img4])\n",
    "cv2.imwrite('all.png', im_v)"
   ]
  }
 ],
 "metadata": {
  "kernelspec": {
   "display_name": "Python 3 (ipykernel)",
   "language": "python",
   "name": "python3"
  },
  "language_info": {
   "codemirror_mode": {
    "name": "ipython",
    "version": 3
   },
   "file_extension": ".py",
   "mimetype": "text/x-python",
   "name": "python",
   "nbconvert_exporter": "python",
   "pygments_lexer": "ipython3",
   "version": "3.7.16"
  }
 },
 "nbformat": 4,
 "nbformat_minor": 5
}
